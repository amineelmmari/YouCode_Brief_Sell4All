{
 "cells": [
  {
   "cell_type": "code",
   "execution_count": 1,
   "id": "8fc73a42",
   "metadata": {},
   "outputs": [],
   "source": [
    "import pandas as pd \n",
    "import matplotlib.pyplot as plt"
   ]
  },
  {
   "cell_type": "code",
   "execution_count": 2,
   "id": "a69cfb54",
   "metadata": {},
   "outputs": [],
   "source": [
    "# Lire les données du fichier CSV"
   ]
  },
  {
   "cell_type": "code",
   "execution_count": 3,
   "id": "90b1b217",
   "metadata": {},
   "outputs": [],
   "source": [
    "dataset = pd.read_csv(\"dataset-sell4all.csv\")"
   ]
  },
  {
   "cell_type": "code",
   "execution_count": 4,
   "id": "2a249fab",
   "metadata": {},
   "outputs": [],
   "source": [
    "# Afficher des informations sur les 5 premières lignes"
   ]
  },
  {
   "cell_type": "code",
   "execution_count": 5,
   "id": "61cb432e",
   "metadata": {},
   "outputs": [
    {
     "data": {
      "text/html": [
       "<div>\n",
       "<style scoped>\n",
       "    .dataframe tbody tr th:only-of-type {\n",
       "        vertical-align: middle;\n",
       "    }\n",
       "\n",
       "    .dataframe tbody tr th {\n",
       "        vertical-align: top;\n",
       "    }\n",
       "\n",
       "    .dataframe thead th {\n",
       "        text-align: right;\n",
       "    }\n",
       "</style>\n",
       "<table border=\"1\" class=\"dataframe\">\n",
       "  <thead>\n",
       "    <tr style=\"text-align: right;\">\n",
       "      <th></th>\n",
       "      <th>Name</th>\n",
       "      <th>Phone Number</th>\n",
       "      <th>Email</th>\n",
       "      <th>Address</th>\n",
       "      <th>Country</th>\n",
       "      <th>Postal code</th>\n",
       "      <th>Last date of connection</th>\n",
       "      <th>Last time of connection</th>\n",
       "      <th>Age</th>\n",
       "      <th>Gender</th>\n",
       "      <th>Customer spendings</th>\n",
       "    </tr>\n",
       "  </thead>\n",
       "  <tbody>\n",
       "    <tr>\n",
       "      <th>0</th>\n",
       "      <td>Aaron Cote</td>\n",
       "      <td>966-7625</td>\n",
       "      <td>elit@hotmail.org</td>\n",
       "      <td>699-5837 Risus Street</td>\n",
       "      <td>Norway</td>\n",
       "      <td>4126</td>\n",
       "      <td>5-Apr-21</td>\n",
       "      <td>4:39</td>\n",
       "      <td>71</td>\n",
       "      <td>Man</td>\n",
       "      <td>356</td>\n",
       "    </tr>\n",
       "    <tr>\n",
       "      <th>1</th>\n",
       "      <td>Angelica Lawson</td>\n",
       "      <td>232-3051</td>\n",
       "      <td>diam.proin@google.org</td>\n",
       "      <td>481-8428 Magna. Street</td>\n",
       "      <td>Pakistan</td>\n",
       "      <td>518885</td>\n",
       "      <td>oct. 10, 2021</td>\n",
       "      <td>0:36</td>\n",
       "      <td>37</td>\n",
       "      <td>Women</td>\n",
       "      <td>173</td>\n",
       "    </tr>\n",
       "    <tr>\n",
       "      <th>2</th>\n",
       "      <td>Louis Gilbert</td>\n",
       "      <td>1-997-733-0134</td>\n",
       "      <td>lorem.fringilla@hotmail.org</td>\n",
       "      <td>Ap #192-2082 Enim. Ave</td>\n",
       "      <td>Colombia</td>\n",
       "      <td>575444</td>\n",
       "      <td>2-Jul-22</td>\n",
       "      <td>3:37</td>\n",
       "      <td>24</td>\n",
       "      <td>Women</td>\n",
       "      <td>105</td>\n",
       "    </tr>\n",
       "    <tr>\n",
       "      <th>3</th>\n",
       "      <td>Basia Finley</td>\n",
       "      <td>1-987-322-7148</td>\n",
       "      <td>tristique.aliquet@icloud.co</td>\n",
       "      <td>608-2732 Nec Rd.</td>\n",
       "      <td>South Africa</td>\n",
       "      <td>5973-5765</td>\n",
       "      <td>19-Feb-22</td>\n",
       "      <td>2:34</td>\n",
       "      <td>37</td>\n",
       "      <td>Women</td>\n",
       "      <td>28</td>\n",
       "    </tr>\n",
       "    <tr>\n",
       "      <th>4</th>\n",
       "      <td>Rhona Sears</td>\n",
       "      <td>387-7682</td>\n",
       "      <td>iaculis.odio.nam@protonmail.org</td>\n",
       "      <td>8763 In Rd.</td>\n",
       "      <td>France</td>\n",
       "      <td>37476</td>\n",
       "      <td>31-Mar-22</td>\n",
       "      <td>6:28</td>\n",
       "      <td>42</td>\n",
       "      <td>Women</td>\n",
       "      <td>13</td>\n",
       "    </tr>\n",
       "  </tbody>\n",
       "</table>\n",
       "</div>"
      ],
      "text/plain": [
       "              Name    Phone Number                            Email  \\\n",
       "0       Aaron Cote        966-7625                 elit@hotmail.org   \n",
       "1  Angelica Lawson        232-3051            diam.proin@google.org   \n",
       "2    Louis Gilbert  1-997-733-0134      lorem.fringilla@hotmail.org   \n",
       "3     Basia Finley  1-987-322-7148      tristique.aliquet@icloud.co   \n",
       "4      Rhona Sears        387-7682  iaculis.odio.nam@protonmail.org   \n",
       "\n",
       "                  Address       Country Postal code Last date of connection  \\\n",
       "0   699-5837 Risus Street        Norway        4126                5-Apr-21   \n",
       "1  481-8428 Magna. Street      Pakistan      518885           oct. 10, 2021   \n",
       "2  Ap #192-2082 Enim. Ave      Colombia      575444                2-Jul-22   \n",
       "3        608-2732 Nec Rd.  South Africa   5973-5765               19-Feb-22   \n",
       "4             8763 In Rd.        France       37476               31-Mar-22   \n",
       "\n",
       "  Last time of connection  Age Gender  Customer spendings  \n",
       "0                    4:39   71    Man                 356  \n",
       "1                    0:36   37  Women                 173  \n",
       "2                    3:37   24  Women                 105  \n",
       "3                    2:34   37  Women                  28  \n",
       "4                    6:28   42  Women                  13  "
      ]
     },
     "execution_count": 5,
     "metadata": {},
     "output_type": "execute_result"
    }
   ],
   "source": [
    "dataset.head()"
   ]
  },
  {
   "cell_type": "code",
   "execution_count": 6,
   "id": "fdc8c6ca",
   "metadata": {},
   "outputs": [],
   "source": [
    "#Afficher un résumé technique des données disponibles"
   ]
  },
  {
   "cell_type": "code",
   "execution_count": 7,
   "id": "e19fa298",
   "metadata": {},
   "outputs": [
    {
     "name": "stdout",
     "output_type": "stream",
     "text": [
      "Nombre de lignes : 505\n"
     ]
    }
   ],
   "source": [
    "## Afficher le nombre de lignes dans le fichier CSV\n",
    "print(f'Nombre de lignes : {len(dataset)}')"
   ]
  },
  {
   "cell_type": "code",
   "execution_count": 8,
   "id": "4c280b7d",
   "metadata": {},
   "outputs": [
    {
     "name": "stdout",
     "output_type": "stream",
     "text": [
      "Colonnes : ['Name', 'Phone Number', 'Email', 'Address', 'Country', 'Postal code', 'Last date of connection', 'Last time of connection', 'Age', 'Gender', 'Customer spendings']\n"
     ]
    }
   ],
   "source": [
    "## Afficher les noms de colonnes\n",
    "print(f'Colonnes : {list(dataset.columns)}')"
   ]
  },
  {
   "cell_type": "code",
   "execution_count": 9,
   "id": "620128be",
   "metadata": {},
   "outputs": [
    {
     "name": "stdout",
     "output_type": "stream",
     "text": [
      "Types de données : \n",
      "Name                       object\n",
      "Phone Number               object\n",
      "Email                      object\n",
      "Address                    object\n",
      "Country                    object\n",
      "Postal code                object\n",
      "Last date of connection    object\n",
      "Last time of connection    object\n",
      "Age                         int64\n",
      "Gender                     object\n",
      "Customer spendings          int64\n",
      "dtype: object\n"
     ]
    }
   ],
   "source": [
    "## Afficher les types de données des champs du fichier CSV\n",
    "print(f'Types de données : \\n{dataset.dtypes}')"
   ]
  },
  {
   "cell_type": "code",
   "execution_count": 10,
   "id": "4ae6591a",
   "metadata": {},
   "outputs": [],
   "source": [
    "#Expliquer les détails affichés du résumé technique:"
   ]
  },
  {
   "cell_type": "code",
   "execution_count": 11,
   "id": "ae597f4d",
   "metadata": {},
   "outputs": [],
   "source": [
    "### Ce résumé technique fournit des informations sur le fichier CSV, notamment le nombre de lignes (505), les noms de colonnes ('Name', 'Phone Number', 'Email', 'Address', 'Country', 'Postal code', 'Last date of connection', 'Last time of connection', 'Age', 'Gender', et 'Customer spendings'), et les types de données (objet, int64 et date). Comprendre ces détails peut nous aider à analyser les données de manière efficace, par exemple en se concentrant sur la colonne 'Customer spendings' pour analyser les dépenses des clients ou sur les colonnes de date pour une analyse temporelle."
   ]
  },
  {
   "cell_type": "code",
   "execution_count": 12,
   "id": "84a1a72a",
   "metadata": {},
   "outputs": [],
   "source": [
    "# Calculer la médiane et la moyenne"
   ]
  },
  {
   "cell_type": "code",
   "execution_count": 13,
   "id": "0305c45d",
   "metadata": {},
   "outputs": [
    {
     "name": "stdout",
     "output_type": "stream",
     "text": [
      "Mediane de l'âge :  46.0\n",
      "Moyenne de l'âge :  46.08316831683168\n"
     ]
    }
   ],
   "source": [
    "## Calculer la médiane et la moyenne de la colonne \"Age\"\n",
    "median_age = dataset['Age'].median()\n",
    "mean_age = dataset['Age'].mean()\n",
    "## Afficher les résultats\n",
    "print(\"Mediane de l'âge : \", median_age)\n",
    "print(\"Moyenne de l'âge : \", mean_age)"
   ]
  },
  {
   "cell_type": "code",
   "execution_count": 14,
   "id": "eb4e4acc",
   "metadata": {},
   "outputs": [
    {
     "name": "stdout",
     "output_type": "stream",
     "text": [
      "Mediane des dépenses des clients :  307.0\n",
      "Moyenne des dépenses des clients :  311.16831683168317\n"
     ]
    }
   ],
   "source": [
    "## Calculer la médiane et la moyenne de la colonne \"Customer spendings\"\n",
    "median_spendings = dataset['Customer spendings'].median()\n",
    "mean_spendings = dataset['Customer spendings'].mean()\n",
    "## Afficher les résultats\n",
    "print(\"Mediane des dépenses des clients : \", median_spendings)\n",
    "print(\"Moyenne des dépenses des clients : \", mean_spendings)"
   ]
  },
  {
   "cell_type": "code",
   "execution_count": 15,
   "id": "fa8fb61d",
   "metadata": {},
   "outputs": [],
   "source": [
    "# Calculer la médiane d’âge pour chaque pays"
   ]
  },
  {
   "cell_type": "code",
   "execution_count": 16,
   "id": "2621fb78",
   "metadata": {},
   "outputs": [
    {
     "name": "stdout",
     "output_type": "stream",
     "text": [
      "Mediane d'âge pour chaque pays :\n",
      "Country\n",
      "Australia             44.0\n",
      "Austria               43.0\n",
      "Belgium               39.0\n",
      "Brazil                49.5\n",
      "Canada                46.0\n",
      "Chile                 46.0\n",
      "China                 35.0\n",
      "Colombia              29.0\n",
      "Costa Rica            48.0\n",
      "France                56.5\n",
      "Germany               53.0\n",
      "India                 45.5\n",
      "Indonesia             41.5\n",
      "Ireland               49.0\n",
      "Italy                 41.0\n",
      "Mexico                47.0\n",
      "Netherlands           48.0\n",
      "New Zealand           38.0\n",
      "Nigeria               37.0\n",
      "Norway                54.0\n",
      "Pakistan              44.0\n",
      "Peru                  38.0\n",
      "Philippines           51.0\n",
      "Poland                49.5\n",
      "Russian Federation    48.0\n",
      "Singapore             41.5\n",
      "South Africa          43.0\n",
      "South Korea           49.5\n",
      "Spain                 54.5\n",
      "Sweden                40.0\n",
      "Turkey                60.0\n",
      "Ukraine               46.0\n",
      "United Kingdom        48.5\n",
      "United States         48.5\n",
      "Vietnam               48.0\n",
      "Name: Age, dtype: float64\n"
     ]
    }
   ],
   "source": [
    "median_age_by_country = dataset.groupby('Country')['Age'].median()\n",
    "\n",
    "## Afficher les résultats\n",
    "print(\"Mediane d'âge pour chaque pays :\")\n",
    "print(median_age_by_country)"
   ]
  },
  {
   "cell_type": "code",
   "execution_count": 17,
   "id": "39c00c32",
   "metadata": {},
   "outputs": [],
   "source": [
    "# Calculer la somme des dépenses par pays"
   ]
  },
  {
   "cell_type": "code",
   "execution_count": 18,
   "id": "028d40e1",
   "metadata": {},
   "outputs": [
    {
     "data": {
      "image/png": "[encoded data removed]",
      "text/plain": [
       "<Figure size 640x480 with 1 Axes>"
      ]
     },
     "metadata": {},
     "output_type": "display_data"
    }
   ],
   "source": [
    "spendings_by_country = dataset.groupby('Country')['Customer spendings'].sum()\n",
    "\n",
    "## Créer un graphique à barres\n",
    "spendings_by_country.plot(kind='bar')\n",
    "\n",
    "## Ajouter un titre et des étiquettes d'axe\n",
    "plt.title('Dépenses des clients par pays')\n",
    "plt.xlabel('Pays')\n",
    "plt.ylabel('Dépenses')\n",
    "\n",
    "## Afficher le graphique\n",
    "plt.show()"
   ]
  },
  {
   "cell_type": "code",
   "execution_count": 19,
   "id": "b1879515",
   "metadata": {},
   "outputs": [],
   "source": [
    "# Nettoyer les lignes avec moins de 10 € de dépenses par client "
   ]
  },
  {
   "cell_type": "code",
   "execution_count": 20,
   "id": "4cb0cde6",
   "metadata": {},
   "outputs": [],
   "source": [
    "dataset = dataset[dataset['Customer spendings'] >= 10]"
   ]
  },
  {
   "cell_type": "code",
   "execution_count": 21,
   "id": "859432fe",
   "metadata": {},
   "outputs": [],
   "source": [
    "# Nettoyer les doublons"
   ]
  },
  {
   "cell_type": "code",
   "execution_count": 22,
   "id": "a91c88a3",
   "metadata": {},
   "outputs": [],
   "source": [
    "dataset.drop_duplicates(inplace=True)"
   ]
  },
  {
   "cell_type": "code",
   "execution_count": 23,
   "id": "9766188d",
   "metadata": {},
   "outputs": [],
   "source": [
    "#ecrire les données nettoyées dans un nouveau fichier CSV "
   ]
  },
  {
   "cell_type": "code",
   "execution_count": 24,
   "id": "dfdf026f",
   "metadata": {},
   "outputs": [],
   "source": [
    "cleaned_data = dataset[['Country', 'Age', 'Gender', 'Customer spendings']]\n",
    "cleaned_data.to_csv('cleane-dataset.csv', index=False)"
   ]
  },
  {
   "cell_type": "code",
   "execution_count": null,
   "id": "389e3b04",
   "metadata": {},
   "outputs": [],
   "source": []
  }
 ],
 "metadata": {
  "kernelspec": {
   "display_name": "Python 3 (ipykernel)",
   "language": "python",
   "name": "python3"
  },
  "language_info": {
   "codemirror_mode": {
    "name": "ipython",
    "version": 3
   },
   "file_extension": ".py",
   "mimetype": "text/x-python",
   "name": "python",
   "nbconvert_exporter": "python",
   "pygments_lexer": "ipython3",
   "version": "3.11.2"
  }
 },
 "nbformat": 4,
 "nbformat_minor": 5
}
